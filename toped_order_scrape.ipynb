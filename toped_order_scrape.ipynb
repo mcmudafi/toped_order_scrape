{
 "cells": [
  {
   "cell_type": "markdown",
   "metadata": {},
   "source": [
    "# Tokopedia order history scraper"
   ]
  },
  {
   "cell_type": "markdown",
   "metadata": {},
   "source": [
    "## Dependencies\n",
    "\n",
    "- [Selenium](#https://selenium-python.readthedocs.io/) for the browser interaction and scrape process\n",
    "- [Plotly](#https://plotly.com/python/) for analytics visualisation\n",
    "    - `notebook`, `ipywidgets`, and `pandas` are dependencies for `plotly`"
   ]
  },
  {
   "cell_type": "code",
   "execution_count": null,
   "metadata": {},
   "outputs": [],
   "source": [
    "%pip install selenium plotly notebook ipywidgets pandas"
   ]
  },
  {
   "cell_type": "markdown",
   "metadata": {},
   "source": [
    "## Core logics"
   ]
  },
  {
   "cell_type": "markdown",
   "metadata": {},
   "source": [
    "Change the following parameters to suit you environment:\n",
    "- `DRIVER_PATH` path of the ChromeDriver\n",
    "- `CHROME_USER_PATH` path of the base Chrome user data\n",
    "- `INTERVAL` interval of which the scraper wait after next button clicked\n",
    "- `FILTER_YEAR` to filter orders of only the specified year\n",
    "- `OUTPUT` path to file to save the process output"
   ]
  },
  {
   "cell_type": "code",
   "execution_count": null,
   "metadata": {},
   "outputs": [],
   "source": [
    "# Selenium\n",
    "DRIVER_PATH = r'[PATH-TO-CHROMEDRIVER]\\chromedriver.exe'\n",
    "CHROME_USER_PATH = r'[PATH-TO-CHROME-DATA]\\User Data'\n",
    "\n",
    "# Scraping\n",
    "INTERVAL = 1  # in seconds.\n",
    "FILTER_YEAR = '2022'\n",
    "OUTPUT = r'[PATH-TO-OUTPUT]\\toped.json'"
   ]
  },
  {
   "cell_type": "markdown",
   "metadata": {},
   "source": [
    "Initializing Selenium parts, using [Chrome](#https://www.google.com/chrome/) browser and the respective [Chromium ChromeDriver](#https://chromedriver.chromium.org/downloads). Selenium will try to open the browser using the profile selector. After first run, select the designated profile and uncheck the option to show every start up. If the url isn't shown up, you can manually navigate to it inside the browser."
   ]
  },
  {
   "cell_type": "code",
   "execution_count": null,
   "metadata": {},
   "outputs": [],
   "source": [
    "# Selenium init\n",
    "\n",
    "from selenium import webdriver\n",
    "from selenium.webdriver.chrome.options import Options\n",
    "from selenium.webdriver.common.by import By\n",
    "\n",
    "URL = 'https://www.tokopedia.com/order-list'\n",
    "\n",
    "options = Options()\n",
    "options.add_argument(f'user-data-dir={CHROME_USER_PATH}')\n",
    "driver = webdriver.Chrome(options=options, executable_path=DRIVER_PATH)\n",
    "\n",
    "driver.get(URL)"
   ]
  },
  {
   "cell_type": "markdown",
   "metadata": {},
   "source": [
    "Make sure the order list page is openned before continue. Remove all filter and navigate to the first page, then you can proceed to scrape."
   ]
  },
  {
   "cell_type": "code",
   "execution_count": null,
   "metadata": {},
   "outputs": [],
   "source": [
    "# Scrapping process\n",
    "\n",
    "from time import sleep\n",
    "import json\n",
    "\n",
    "XPATH_CARD_ICONS = '//div[@class=\"icon-category\"]'\n",
    "XPATH_ICON_DIVS = 'following-sibling::div'\n",
    "XPATH_PRICE = '../../..//div[@class=\"sum-price\"]/div/p[2]'\n",
    "XPATH_SHOP_NAME = '../../..//p[starts-with(@data-testid, \"shopName\")]'\n",
    "XPATH_PRODUCT_DETAILS = '../../..//div[@class=\"item-content\"]//div[@class=\"product-details\"]//h6'\n",
    "XPATH_NEXT_BUTTON = '//button[@aria-label=\"Laman berikutnya\"]'\n",
    "\n",
    "def trim_price(price):\n",
    "    return price.replace('Rp', '').replace('.', '').strip()\n",
    "\n",
    "invoices = list()\n",
    "done = False\n",
    "while not done:\n",
    "    icons = driver.find_elements(By.XPATH, XPATH_CARD_ICONS)\n",
    "    for icon in icons:\n",
    "        divs = icon.find_elements(By.XPATH, XPATH_ICON_DIVS)\n",
    "        cat, dat, _, inv = divs\n",
    "\n",
    "        if not str(dat.text).endswith(FILTER_YEAR):\n",
    "            done = True\n",
    "            break\n",
    "\n",
    "        price = icon.find_element(By.XPATH, XPATH_PRICE)\n",
    "        shop_xpath = XPATH_SHOP_NAME if str(cat.text) == 'Belanja' else XPATH_PRODUCT_DETAILS\n",
    "        shop = icon.find_element(By.XPATH, shop_xpath)\n",
    "\n",
    "        invoice = {\n",
    "            'invoice': inv.text,\n",
    "            'category': cat.text,\n",
    "            'shop': shop.text,\n",
    "            'price': trim_price(price.text)\n",
    "        }\n",
    "        print(invoice)\n",
    "        invoices.append(invoice)\n",
    "\n",
    "    driver.find_element(By.XPATH, XPATH_NEXT_BUTTON).click()\n",
    "    sleep(INTERVAL)\n",
    "\n",
    "json.dump(invoices, open(OUTPUT, 'w+'))"
   ]
  },
  {
   "cell_type": "markdown",
   "metadata": {},
   "source": [
    "## Post-scrape: analytics and visualisations"
   ]
  },
  {
   "cell_type": "markdown",
   "metadata": {},
   "source": [
    "### Basic aggregation logics"
   ]
  },
  {
   "cell_type": "code",
   "execution_count": 189,
   "metadata": {},
   "outputs": [],
   "source": [
    "# Plotly init\n",
    "\n",
    "import pandas\n",
    "import plotly.express as px\n",
    "import plotly.graph_objects as go\n",
    "import plotly.io as pio\n",
    "pio.renderers.default = \"browser\"\n",
    "\n",
    "def sum_per_key(dictionary):\n",
    "    for d in dictionary:\n",
    "        val = sum(int(x['price']) for x in dictionary[d])\n",
    "        yield {'key':d, 'value':val}\n",
    "\n",
    "def figure_per_key(dictionary):\n",
    "    fig = px.bar(sum_per_key(dictionary), x='key', y='value', text_auto='.2s')\n",
    "    fig.show()\n",
    "\n",
    "def figure_per_group_key(dictionary):\n",
    "    def _sum(filter):\n",
    "        for d in dictionary:\n",
    "            yield sum(int(x['price']) for x in dictionary[d] if x['invoice'].startswith(filter))\n",
    "    \n",
    "    df = pandas.DataFrame()\n",
    "    df['key'] = dictionary.keys()\n",
    "    df['Belanja'] = list(_sum('INV'))\n",
    "    df['Tagihan'] = list(_sum('IVR'))\n",
    "\n",
    "    fig = px.bar(df, x='key', y=['Belanja', 'Tagihan'], text_auto='.2s', barmode='group')\n",
    "    fig.show()"
   ]
  },
  {
   "cell_type": "markdown",
   "metadata": {},
   "source": [
    "### Example of the analytics processes"
   ]
  },
  {
   "cell_type": "code",
   "execution_count": null,
   "metadata": {},
   "outputs": [],
   "source": [
    "grouped_by_category = dict()\n",
    "\n",
    "for inv in invoices:\n",
    "    category = inv['category']\n",
    "    if category not in grouped_by_category:\n",
    "        grouped_by_category[category] = list()\n",
    "    grouped_by_category[category].append(inv)\n",
    "\n",
    "figure_per_key(grouped_by_category)"
   ]
  },
  {
   "cell_type": "code",
   "execution_count": 190,
   "metadata": {},
   "outputs": [],
   "source": [
    "MONTHS = ['January', 'February', 'March', 'April', 'May', 'June', 'July', 'August', 'September', 'October', 'November', 'Desember']\n",
    "grouped_by_month = dict()\n",
    "\n",
    "for inv in invoices:\n",
    "    date = inv['invoice'].split('/')[1]\n",
    "    month = MONTHS[int(date[4:6]) - 1]\n",
    "    if month not in grouped_by_month:\n",
    "        grouped_by_month[month] = list()\n",
    "    grouped_by_month[month].append(inv)\n",
    "\n",
    "figure_per_group_key(grouped_by_month)"
   ]
  },
  {
   "cell_type": "code",
   "execution_count": null,
   "metadata": {},
   "outputs": [],
   "source": [
    "grouped_by_shop = dict()\n",
    "\n",
    "for inv in invoices:\n",
    "    shop = f\"{inv['category']} {inv['shop']}\"\n",
    "    if shop not in grouped_by_shop:\n",
    "        grouped_by_shop[shop] = list()\n",
    "    grouped_by_shop[shop].append(inv)\n",
    "\n",
    "figure_per_key(grouped_by_shop)"
   ]
  }
 ],
 "metadata": {
  "kernelspec": {
   "display_name": "Python 3.10.2 64-bit",
   "language": "python",
   "name": "python3"
  },
  "language_info": {
   "codemirror_mode": {
    "name": "ipython",
    "version": 3
   },
   "file_extension": ".py",
   "mimetype": "text/x-python",
   "name": "python",
   "nbconvert_exporter": "python",
   "pygments_lexer": "ipython3",
   "version": "3.10.2"
  },
  "orig_nbformat": 4,
  "vscode": {
   "interpreter": {
    "hash": "ecb2fd829dca015146fe6387c5da425600224d9c639b7d80317e4543b3d9bc08"
   }
  }
 },
 "nbformat": 4,
 "nbformat_minor": 2
}
